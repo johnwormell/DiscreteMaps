{
 "cells": [
  {
   "cell_type": "code",
   "execution_count": 36,
   "metadata": {
    "collapsed": false
   },
   "outputs": [
    {
     "name": "stderr",
     "output_type": "stream",
     "text": [
      "Warning: replacing module DiscreteMaps\n"
     ]
    }
   ],
   "source": [
    "include(\"DiscreteMaps.jl\")\n",
    "using DiscreteMaps, HDF5, JLD, Gadfly"
   ]
  },
  {
   "cell_type": "code",
   "execution_count": 73,
   "metadata": {
    "collapsed": false
   },
   "outputs": [
    {
     "ename": "LoadError",
     "evalue": "`synthesiseresults` has no method matching synthesiseresults(::ASCIIString, ::ASCIIString, ::ASCIIString, ::ASCIIString)\nwhile loading In[73], in expression starting on line 1",
     "output_type": "error",
     "traceback": [
      "`synthesiseresults` has no method matching synthesiseresults(::ASCIIString, ::ASCIIString, ::ASCIIString, ::ASCIIString)\nwhile loading In[73], in expression starting on line 1",
      ""
     ]
    }
   ],
   "source": [
    "(nothing,eA,vA) = DiscreteMaps.synthesiseresults(\"L2\",\"results\",\"rp\");\n",
    "(mean(eA[1,:]),var(eA[1,:])) |> println\n",
    "Gadfly.plot(x=vA[1,:],Geom.histogram);\n",
    "1"
   ]
  },
  {
   "cell_type": "code",
   "execution_count": null,
   "metadata": {
    "collapsed": false
   },
   "outputs": [
    {
     "name": "stderr",
     "output_type": "stream",
     "text": [
      "Warning: replacing module DiscreteMaps\n"
     ]
    },
    {
     "name": "stdout",
     "output_type": "stream",
     "text": [
      "NVsamp: 1000"
     ]
    }
   ],
   "source": [
    "include(\"DiscreteMaps.jl\")\n",
    "using DiscreteMaps, HDF5, JLD, Gadfly\n",
    "(DiscreteMaps.obsiterate(DiscreteMaps.logistic2(N=4*10^7))) |> println\n",
    "(DiscreteMaps.obsiterate(DiscreteMaps.logistic2(N=4*10^7))) |> println\n"
   ]
  },
  {
   "cell_type": "code",
   "execution_count": 54,
   "metadata": {
    "collapsed": false
   },
   "outputs": [
    {
     "name": "stdout",
     "output_type": "stream",
     "text": [
      "[0.6418174420716937 1.1370853162352443e-7\n",
      " -0.25898923988644645 5.277345513266534e-6\n",
      " 0.0027009612570327844 9.16725450648076e-6\n",
      " 0.5759445294478275 0.02200719997652616\n",
      " 0.5121423478502906 0.0009095966888605772]\n"
     ]
    }
   ],
   "source": [
    "println(DiscreteMaps.obsiterate(DiscreteMaps.logistic2(N=50009,useacv=true)))"
   ]
  },
  {
   "cell_type": "code",
   "execution_count": null,
   "metadata": {
    "collapsed": true
   },
   "outputs": [],
   "source": []
  }
 ],
 "metadata": {
  "kernelspec": {
   "display_name": "Julia 0.3.7",
   "language": "julia",
   "name": "julia-0.3"
  },
  "language_info": {
   "name": "julia",
   "version": "0.3.7"
  }
 },
 "nbformat": 4,
 "nbformat_minor": 0
}
