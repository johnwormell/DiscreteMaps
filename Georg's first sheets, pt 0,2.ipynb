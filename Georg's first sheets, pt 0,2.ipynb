{
 "cells": [
  {
   "cell_type": "code",
   "execution_count": 3,
   "metadata": {
    "collapsed": false
   },
   "outputs": [
    {
     "name": "stderr",
     "output_type": "stream",
     "text": [
      "Warning: replacing module DiscreteMaps\n",
      "Warning: Method definition ones((),) in module DiscreteMaps at /Users/johnwormell/DiscreteMaps/DiscreteMaps.jl:28 overwritten in module DiscreteMaps at /Users/johnwormell/DiscreteMaps/DiscreteMaps.jl:28.\n"
     ]
    }
   ],
   "source": [
    "#include(\"../DMSpecacim/DiscreteMaps.jl\")\n",
    "include(\"DiscreteMaps.jl\")\n",
    "using DiscreteMaps, Gadfly\n",
    "DM = DiscreteMaps\n",
    "M = 20\n",
    "deps = 1e-6\n",
    "Mp = [x=>DM.logistic(x(3.8,M*deps/20)) for x in [+,-]]\n",
    "CO = [x=>DM.logisticcriticalorbit(Mp[x]) for x in [+,-]]\n",
    "#COspds = \n",
    "mu = [x=>DM.spectralacim(Mp[x],200,uselogisticcofn=true) for x in [+,-]];"
   ]
  },
  {
   "cell_type": "code",
   "execution_count": 4,
   "metadata": {
    "collapsed": false
   },
   "outputs": [
    {
     "data": {
      "text/plain": [
       "Dict{Function,Any} with 2 entries:\n",
       "  - => [0.7069869242067932 0.7871941630317316 0.6365739808184095 0.879120450153…\n",
       "  + => [0.780632672754508 0.6507323225794378 0.8636633416130461 0.4474462188229…"
      ]
     },
     "execution_count": 4,
     "metadata": {},
     "output_type": "execute_result"
    }
   ],
   "source": [
    "#Gadfly.plot([plotmeasure(mu[+];col=color(\"blue\")),\n",
    "#    plotmeasure(mu[-];col=color(\"green\"))],Scale.x_continuous(minvalue=0.58,maxvalue=0.6))\n",
    "N = 10^8\n",
    "xh = [x=>DM.iterate(Mp[x],10^8) for x in [+,-]]"
   ]
  },
  {
   "cell_type": "code",
   "execution_count": 5,
   "metadata": {
    "collapsed": false
   },
   "outputs": [],
   "source": [
    "meshf = 10000\n",
    "boxsize = 0.9/meshf\n",
    "hgd = linspace(0.05+1e-6,0.95-1e-6,meshf+1)\n",
    "pgd = hgd[1:end-1] + boxsize/2\n",
    "#xhcts = [x => hist(xh[x],hgd)[2]/boxsize/N for x in [+,-]]\n",
    "mp = [x=>DM.measureint(hgd,mu[x])[1] * 10^8 for x in [+,-]];"
   ]
  },
  {
   "cell_type": "code",
   "execution_count": null,
   "metadata": {
    "collapsed": false
   },
   "outputs": [],
   "source": [
    "# can we see any good peaks by eye?\n",
    "col = [(+)=>\"orange\",(-)=>\"red\"]\n",
    "# this plot is a stand-in for iterating (I'm too lazy)\n",
    "#plot([layer(x=pgd,y=mp[x]+sqrt(abs(mp[x])).*randn(meshf),Geom.line,Theme(default_color=color(col[x])))[1] for x in [+,-]]...)\n",
    "plot([layer(x=xh[x],Geom.histogram,Theme(default_color=color(col[x])))[1] for x in [+,-]])"
   ]
  },
  {
   "cell_type": "code",
   "execution_count": 7,
   "metadata": {
    "collapsed": false
   },
   "outputs": [
    {
     "data": {
      "text/plain": [
       "3-element Array{Int64,1}:\n",
       "  1\n",
       " 13\n",
       " 22"
      ]
     },
     "execution_count": 7,
     "metadata": {},
     "output_type": "execute_result"
    }
   ],
   "source": [
    "nbyeye = find(0.80 .< DiscreteMaps.criticalorbit(DiscreteMaps.logistic(3.8)).pts .< 0.82)[1]\n",
    "depsm = M/2 * deps\n",
    "nstar = - log(depsm) / 2log(mean([DM.lyapunov(Mp[x],mu[x]) for x in [+,-]])) |> round |> int\n",
    "n_one = 1\n",
    "nv = [n_one,nstar,nbyeye]"
   ]
  },
  {
   "cell_type": "code",
   "execution_count": null,
   "metadata": {
    "collapsed": false
   },
   "outputs": [
    {
     "name": "stderr",
     "output_type": "stream",
     "text": [
      "Warning: replacing module DiscreteMaps\n",
      "Warning: Method definition ones((),) in module DiscreteMaps at /Users/johnwormell/DiscreteMaps/DiscreteMaps.jl:28 overwritten in module DiscreteMaps at /Users/johnwormell/DiscreteMaps/DiscreteMaps.jl:28.\n",
      "Warning: replacing module DiscreteMaps\n",
      "Warning: replacing module DiscreteMaps\n",
      "Warning: replacing module DiscreteMaps\n",
      "Warning: Method definition onesWarning: Method definition onesWarning: Method definition ones((),) in module DiscreteMaps at /Users/johnwormell/DiscreteMaps/DiscreteMaps.jl:28 overwritten in module DiscreteMaps at /Users/johnwormell/DiscreteMaps/DiscreteMaps.jl:28.\n",
      "((),) in module DiscreteMaps at /Users/johnwormell/DiscreteMaps/DiscreteMaps.jl:28 overwritten in module DiscreteMaps at /Users/johnwormell/DiscreteMaps/DiscreteMaps.jl:28.\n",
      "((),) in module DiscreteMaps at /Users/johnwormell/DiscreteMaps/DiscreteMaps.jl:28 overwritten in module DiscreteMaps at /Users/johnwormell/DiscreteMaps/DiscreteMaps.jl:28.\n",
      "Warning: replacing module expas\n",
      "Warning: replacing module expas\n",
      "Warning: replacing module expas\n",
      "Warning: replacing module expas\n"
     ]
    }
   ],
   "source": [
    "addprocs(4-nprocs())\n",
    "\n",
    "@everywhere include(\"DiscreteMaps.jl\")\n",
    "\n",
    "@everywhere module expas\n",
    "    using DiscreteMaps\n",
    "    alpha = 3.8\n",
    "    copts = DiscreteMaps.logisticcriticalorbit(DiscreteMaps.logistic(alpha)).pts |> vec\n",
    "    gauA(stdv,ns) = [DiscreteMaps.gaussian(copts[i],std) for std in stdv,i in ns] |> vec\n",
    "    logisticgs(stdv,ns;largs...) = DiscreteMaps.IterationSchema(DiscreteMaps.logisticp(alpha),\"Lgs\",gauA(stdv,ns);largs...)\n",
    "    end\n",
    "\n",
    "@everywhere setupcode = quote\n",
    "    nv = [1,13,22]\n",
    "    using DiscreteMaps\n",
    "    \n",
    "\n",
    "    using expas\n",
    "    function peturbsample(M,deps,kr)\n",
    "        N = 10^8\n",
    "        NH = 10^2\n",
    "        DiscreteMaps.timedsample(expas.logisticgs(2. .^(-[1:0.5:30]),nv,\n",
    "            samplefn=DiscreteMaps.evensamplefn,samplefnargs=(deps),N=N,NH=NH),\n",
    "            NP=M,NCycles=1,startstring=\"results/lrb/rbugs-$(deps)-$(kr)-\")\n",
    "    end\n",
    "end\n",
    "@everywhere eval(setupcode)\n",
    "peturbsample(M,deps,1.);"
   ]
  },
  {
   "cell_type": "code",
   "execution_count": 2,
   "metadata": {
    "collapsed": false
   },
   "outputs": [
    {
     "name": "stderr",
     "output_type": "stream",
     "text": [
      "Warning: replacing module DiscreteMaps\n",
      "Warning: Method definition ones((),) in module DiscreteMaps at /Users/johnwormell/DiscreteMaps/DiscreteMaps.jl:28 overwritten in module DiscreteMaps at /Users/johnwormell/DiscreteMaps/DiscreteMaps.jl:28.\n"
     ]
    },
    {
     "ename": "LoadError",
     "evalue": "plot not defined\nwhile loading In[2], in expression starting on line 7",
     "output_type": "error",
     "traceback": [
      "plot not defined\nwhile loading In[2], in expression starting on line 7",
      ""
     ]
    }
   ],
   "source": [
    "include(\"DiscreteMaps.jl\")\n",
    "using HDF5, JLD, DiscreteMaps\n",
    "L = load(\"results/lrb/rbugs-1.0e-6-1.0--Lgs-2015-07-12T10-00-00--22-47-s.h5\");\n",
    "rss = DiscreteMaps.checklinearresponse(L)[1]\n",
    "chim = reshape(rss,(59,3))\n",
    "#methods(reshape)\n",
    "plot(x=2.^(-[1:0.5:30]),y=max(0,chim[:,1]-(M-2)),Scale.y_log10(maxvalue=10^10),Scale.x_log10,Geom.line)"
   ]
  },
  {
   "cell_type": "code",
   "execution_count": 188,
   "metadata": {
    "collapsed": false
   },
   "outputs": [
    {
     "data": {
      "text/plain": [
       "1-element Array{Float64,1}:\n",
       " 1.16348"
      ]
     },
     "execution_count": 188,
     "metadata": {},
     "output_type": "execute_result"
    }
   ],
   "source": [
    "# does the lyapunov exponent thing work?\n",
    "x1 = rand(1)\n",
    "x2 = x1 + 1e-7\n",
    "rp = 10\n",
    "for i = 1:rp\n",
    "    Mp[+].f!(x1,Mp[+].params)\n",
    "    Mp[+].f!(x2,Mp[+].params)\n",
    "end\n",
    "(abs(x2 - x1)/1e-7).^(1/2rp)"
   ]
  },
  {
   "cell_type": "code",
   "execution_count": 63,
   "metadata": {
    "collapsed": false
   },
   "outputs": [
    {
     "name": "stderr",
     "output_type": "stream",
     "text": [
      "Warning: replacing module DiscreteMaps\n",
      "Warning: Method definition ones((),) in module DiscreteMaps at /Users/johnwormell/DiscreteMaps/DiscreteMaps.jl:28 overwritten in module DiscreteMaps at /Users/johnwormell/DiscreteMaps/DiscreteMaps.jl:28.\n",
      "Warning: using DiscreteMaps.iterate in module Main conflicts with an existing identifier.\n",
      "Warning: using DiscreteMaps.Map in module Main conflicts with an existing identifier.\n",
      "Warning: using DiscreteMaps.DMap in module Main conflicts with an existing identifier.\n",
      "Warning: using DiscreteMaps.observepeturbation in module Main conflicts with an existing identifier.\n",
      "Warning: using DiscreteMaps.checklinearresponse in module Main conflicts with an existing identifier.\n",
      "Warning: using DiscreteMaps.NDMap in module Main conflicts with an existing identifier.\n",
      "Warning: using DiscreteMaps.Peturbation in module Main conflicts with an existing identifier.\n"
     ]
    }
   ],
   "source": [
    "# does the lyapunov-speeds-alpha thing work?\n",
    "include(\"DiscreteMaps.jl\")\n",
    "using DiscreteMaps\n",
    "DM = DiscreteMaps\n",
    "lyk = Float64[]\n",
    "alphak = Float64[]\n",
    "alspdk = Float64[]\n",
    "x = [1:100]\n",
    "for k in 3.75:0.001:3.8\n",
    "    Mpk = DM.logistic(k)\n",
    "    COk = DM.logisticcriticalorbit(Mpk)\n",
    "    y = COk.mag\n",
    "    z = abs(DM.logisticcospeeds(COk,Mpk))\n",
    "    push!(alphak, exp(-cov(x,log(y[:]))/var(x))[1])\n",
    "    push!(lyk, DM.lyapunov(Mpk,DM.spectralacim(Mpk))[1])\n",
    "    push!(alspdk, exp(-cov(x,log(z[:]))/var(x))[1])\n",
    "end"
   ]
  },
  {
   "cell_type": "code",
   "execution_count": 14,
   "metadata": {
    "collapsed": false
   },
   "outputs": [
    {
     "data": {
      "text/plain": [
       "189-element Array{Any,1}:\n",
       "  1\n",
       "  1\n",
       "  1\n",
       "  1\n",
       "  1\n",
       "  1\n",
       "  1\n",
       "  1\n",
       "  1\n",
       "  1\n",
       "  1\n",
       "  1\n",
       "  1\n",
       "  ⋮\n",
       " 22\n",
       " 22\n",
       " 22\n",
       " 22\n",
       " 22\n",
       " 22\n",
       " 22\n",
       " 22\n",
       " 22\n",
       " 22\n",
       " 22\n",
       " 22"
      ]
     },
     "execution_count": 14,
     "metadata": {},
     "output_type": "execute_result"
    }
   ],
   "source": [
    "[i for std in 2. .^[-1:0.5:30],i in nv] |> vec"
   ]
  },
  {
   "cell_type": "code",
   "execution_count": null,
   "metadata": {
    "collapsed": true
   },
   "outputs": [],
   "source": []
  }
 ],
 "metadata": {
  "kernelspec": {
   "display_name": "Julia 0.3.7",
   "language": "julia",
   "name": "julia-0.3"
  },
  "language_info": {
   "name": "julia",
   "version": "0.3.7"
  }
 },
 "nbformat": 4,
 "nbformat_minor": 0
}
