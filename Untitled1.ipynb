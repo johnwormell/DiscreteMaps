{
 "cells": [
  {
   "cell_type": "code",
   "execution_count": 2,
   "metadata": {
    "collapsed": false
   },
   "outputs": [
    {
     "data": {
      "text/plain": [
       "DiscreteMaps"
      ]
     },
     "execution_count": 2,
     "metadata": {},
     "output_type": "execute_result"
    }
   ],
   "source": [
    "include(\"../DMSpecacim/DiscreteMaps.jl\")\n",
    "using DiscreteMaps\n",
    "DM = DiscreteMaps"
   ]
  },
  {
   "cell_type": "code",
   "execution_count": 5,
   "metadata": {
    "collapsed": false
   },
   "outputs": [],
   "source": [
    "alpharng = 3.8 + (0:1e-7:1e-5)\n",
    "lrtvals = Float64[]\n",
    "for alpha in alpharng\n",
    "    push!(lrtvals,DM.totalint(DM.spectralacim(DM.logistic(3.8),200,uselogisticcofn=true),identity)[1])\n",
    "end"
   ]
  },
  {
   "cell_type": "code",
   "execution_count": null,
   "metadata": {
    "collapsed": true
   },
   "outputs": [],
   "source": [
    "Gadfly.plot(x=alpharng,y=lrtvals)"
   ]
  }
 ],
 "metadata": {
  "kernelspec": {
   "display_name": "Julia 0.3.7",
   "language": "julia",
   "name": "julia-0.3"
  },
  "language_info": {
   "name": "julia",
   "version": "0.3.7"
  }
 },
 "nbformat": 4,
 "nbformat_minor": 0
}
