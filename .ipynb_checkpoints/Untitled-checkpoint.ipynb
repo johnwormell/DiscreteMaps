{
 "cells": [
  {
   "cell_type": "code",
   "execution_count": 45,
   "metadata": {
    "collapsed": false
   },
   "outputs": [
    {
     "name": "stderr",
     "output_type": "stream",
     "text": [
      "Warning: replacing module DiscreteMaps\n",
      "Warning: Method definition ones((),) in module DiscreteMaps at /Users/johnwormell/DiscreteMaps/DiscreteMaps.jl:28 overwritten in module DiscreteMaps at /Users/johnwormell/DiscreteMaps/DiscreteMaps.jl:28.\n"
     ]
    }
   ],
   "source": [
    "include(\"DiscreteMaps.jl\")\n",
    "using DiscreteMaps, HDF5, JLD, PyPlot, Distributions\n",
    "path = \"results/lrb\";"
   ]
  },
  {
   "cell_type": "code",
   "execution_count": 22,
   "metadata": {
    "collapsed": false
   },
   "outputs": [],
   "source": [
    "epsv,eA,vA = DiscreteMaps.synthesiseresults(\"Lh\",\"/Users/johnwormell/DiscreteMaps-backup/results/lrb\",[\"rb\",\"20\",\"80000\"],foutput=false);"
   ]
  },
  {
   "cell_type": "code",
   "execution_count": 24,
   "metadata": {
    "collapsed": false
   },
   "outputs": [
    {
     "data": {
      "text/plain": [
       "(100,10640)"
      ]
     },
     "execution_count": 24,
     "metadata": {},
     "output_type": "execute_result"
    }
   ],
   "source": [
    "size(eA)"
   ]
  },
  {
   "cell_type": "code",
   "execution_count": 65,
   "metadata": {
    "collapsed": false
   },
   "outputs": [
    {
     "data": {
      "text/plain": [
       "400-element Array{Any,1}:\n",
       " A\n",
       " A\n",
       " A\n",
       " A\n",
       " A\n",
       " A\n",
       " A\n",
       " A\n",
       " A\n",
       " A\n",
       " A\n",
       " A\n",
       " A\n",
       " ⋮\n",
       " A\n",
       " A\n",
       " A\n",
       " A\n",
       " A\n",
       " A\n",
       " A\n",
       " A\n",
       " A\n",
       " A\n",
       " A\n",
       " A"
      ]
     },
     "execution_count": 65,
     "metadata": {},
     "output_type": "execute_result"
    }
   ],
   "source": [
    "Nk = 10\n",
    "Ntht = 1\n",
    "Npts = 40\n",
    "\n",
    "peakedgeheight = 0.1\n",
    "CO = DiscreteMaps.criticalorbit(DiscreteMaps.logistic(3.8),Npts);\n",
    "spds = DiscreteMaps.logisticcospeeds(CO,DiscreteMaps.logistic(3.8)) |> vec;\n",
    "pts = CO.pts |> vec\n",
    "wdths = (CO.mag/peakedgeheight).^2 |> vec;\n",
    "\n",
    "\n",
    "relkvals = Array(Float64,1,1,Nk)\n",
    "relkvals[:] = [1:Nk]/4\n",
    "kvals = fill(relkvals,1,Ntht,Nk) .* spds * 1e-6\n",
    "\n",
    "relthtvals = [1:Ntht]'\n",
    "thtvals = relthtvals .* kvals\n",
    "\n",
    "sdvs = vec(kvals)\n",
    "ctrs = vec(pts .+ thtvals)\n",
    "fnarray = [DiscreteMaps.gaussian(sdvs[i],ctrs[i]) for i = 1:length(sdvs)]"
   ]
  },
  {
   "cell_type": "code",
   "execution_count": 33,
   "metadata": {
    "collapsed": false
   },
   "outputs": [
    {
     "data": {
      "text/html": [
       "1 method for generic function <b>logisticcospeeds</b>:<ul><li> logisticcospeeds(CO::<b>CriticalOrbit</b>,M::<b>IMap</b>) at <a href=\"https://github.com/johnwormell/DiscreteMaps/tree/105ff9138b782ef04fa9e94c9e33bd95d05285fb/DM-Acim.jl#L34\" target=\"_blank\">/Users/johnwormell/DiscreteMaps/DM-Acim.jl:34</a></ul>"
      ],
      "text/plain": [
       "# 1 method for generic function \"logisticcospeeds\":\n",
       "logisticcospeeds(CO::CriticalOrbit,M::IMap) at /Users/johnwormell/DiscreteMaps/DM-Acim.jl:34"
      ]
     },
     "execution_count": 33,
     "metadata": {},
     "output_type": "execute_result"
    }
   ],
   "source": [
    "DM.logisticcospeeds |> methods"
   ]
  },
  {
   "cell_type": "code",
   "execution_count": 64,
   "metadata": {
    "collapsed": false
   },
   "outputs": [
    {
     "data": {
      "text/plain": [
       "9-element Array{Float64,1}:\n",
       " 1.0\n",
       " 0.0\n",
       " 0.0\n",
       " 0.0\n",
       " 1.0\n",
       " 0.0\n",
       " 0.0\n",
       " 0.0\n",
       " 1.0"
      ]
     },
     "execution_count": 64,
     "metadata": {},
     "output_type": "execute_result"
    }
   ],
   "source": []
  },
  {
   "cell_type": "code",
   "execution_count": null,
   "metadata": {
    "collapsed": true
   },
   "outputs": [],
   "source": []
  }
 ],
 "metadata": {
  "kernelspec": {
   "display_name": "Julia 0.3.7",
   "language": "julia",
   "name": "julia-0.3"
  },
  "language_info": {
   "name": "julia",
   "version": "0.3.7"
  }
 },
 "nbformat": 4,
 "nbformat_minor": 0
}
