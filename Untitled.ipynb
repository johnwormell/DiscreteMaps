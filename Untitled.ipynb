{
 "cells": [
  {
   "cell_type": "code",
   "execution_count": 45,
   "metadata": {
    "collapsed": false
   },
   "outputs": [
    {
     "name": "stderr",
     "output_type": "stream",
     "text": [
      "Warning: replacing module DiscreteMaps\n",
      "Warning: Method definition ones((),) in module DiscreteMaps at /Users/johnwormell/DiscreteMaps/DiscreteMaps.jl:28 overwritten in module DiscreteMaps at /Users/johnwormell/DiscreteMaps/DiscreteMaps.jl:28.\n"
     ]
    }
   ],
   "source": [
    "include(\"DiscreteMaps.jl\")\n",
    "using DiscreteMaps, HDF5, JLD, PyPlot, Distributions\n",
    "path = \"results/lrb\";"
   ]
  },
  {
   "cell_type": "code",
   "execution_count": 22,
   "metadata": {
    "collapsed": false
   },
   "outputs": [],
   "source": [
    "epsv,eA,vA = DiscreteMaps.synthesiseresults(\"Lh\",\"/Users/johnwormell/DiscreteMaps-backup/results/lrb\",[\"rb\",\"20\",\"80000\"],foutput=false);"
   ]
  },
  {
   "cell_type": "code",
   "execution_count": 24,
   "metadata": {
    "collapsed": false
   },
   "outputs": [
    {
     "data": {
      "text/plain": [
       "(100,10640)"
      ]
     },
     "execution_count": 24,
     "metadata": {},
     "output_type": "execute_result"
    }
   ],
   "source": [
    "size(eA)"
   ]
  },
  {
   "cell_type": "code",
   "execution_count": null,
   "metadata": {
    "collapsed": false
   },
   "outputs": [],
   "source": [
    "  include(\"DiscreteMaps.jl\")\n",
    "  using DiscreteMaps, HDF5, JLD, Dates\n",
    "  endtime = DateTime(2015,07,06,12,00,00)\n",
    "Nk = 10\n",
    "Ntht = 10\n",
    "Npts = 40\n",
    "\n",
    "peakedgeheight = 0.1\n",
    "CO = DiscreteMaps.criticalorbit(DiscreteMaps.logistic(3.8),Npts);\n",
    "spds = DiscreteMaps.logisticcospeeds(CO,DiscreteMaps.logistic(3.8)) |> vec;\n",
    "pts = CO.pts |> vec\n",
    "wdths = (CO.mag/peakedgeheight).^2 |> vec;\n",
    "\n",
    "\n",
    "relkvals = Array(Float64,1,1,Nk)\n",
    "relkvals[:] = [1:Nk]/4\n",
    "kvals = relkvals .* ones(1,Ntht) .* spds * 1e-5\n",
    "\n",
    "relthtvals = [1:Ntht]'\n",
    "thtvals = relthtvals .* kvals\n",
    "\n",
    "sdvs = kvals[:]\n",
    "ctrs = (pts .+ thtvals)[:]\n",
    "gaussA = Array(Function,length(sdvs))\n",
    "for i = 1:length(gaussA)\n",
    "    gaussA[i] = DiscreteMaps.gaussian(ctrs[i],sdvs[i])\n",
    "end\n",
    "\n",
    "    N = 4*10^7\n",
    "    NH = 4*10^4\n",
    "\n",
    "  function peturbsample(M,deps)\n",
    "    It = DiscreteMaps.IterationSchema(DiscreteMaps.logisticp(3.8),\"Lg\",gaussA;\n",
    "        samplefn=DiscreteMaps.evensamplefn,samplefnargs=(deps),N=N,NH=NH)\n",
    "    DiscreteMaps.timedsample(It,NP=M,NCycles=1,startstring=\"results/lrb/rbg-$(deps)\")\n",
    "  end\n",
    "\n",
    "peturbsample(20,1e-6)"
   ]
  },
  {
   "cell_type": "code",
   "execution_count": 95,
   "metadata": {
    "collapsed": false
   },
   "outputs": [
    {
     "data": {
      "text/plain": [
       "1-element Array{Float64,1}:\n",
       " 0.398942"
      ]
     },
     "execution_count": 95,
     "metadata": {},
     "output_type": "execute_result"
    }
   ],
   "source": [
    "DiscreteMaps.gaussian(1.,1.)([1.])"
   ]
  },
  {
   "cell_type": "code",
   "execution_count": 64,
   "metadata": {
    "collapsed": false
   },
   "outputs": [
    {
     "data": {
      "text/plain": [
       "9-element Array{Float64,1}:\n",
       " 1.0\n",
       " 0.0\n",
       " 0.0\n",
       " 0.0\n",
       " 1.0\n",
       " 0.0\n",
       " 0.0\n",
       " 0.0\n",
       " 1.0"
      ]
     },
     "execution_count": 64,
     "metadata": {},
     "output_type": "execute_result"
    }
   ],
   "source": []
  },
  {
   "cell_type": "code",
   "execution_count": null,
   "metadata": {
    "collapsed": true
   },
   "outputs": [],
   "source": []
  }
 ],
 "metadata": {
  "kernelspec": {
   "display_name": "Julia 0.3.7",
   "language": "julia",
   "name": "julia-0.3"
  },
  "language_info": {
   "name": "julia",
   "version": "0.3.7"
  }
 },
 "nbformat": 4,
 "nbformat_minor": 0
}
