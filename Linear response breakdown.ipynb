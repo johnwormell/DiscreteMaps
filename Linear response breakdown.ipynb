{
 "cells": [
  {
   "cell_type": "code",
   "execution_count": 2,
   "metadata": {
    "collapsed": false
   },
   "outputs": [
    {
     "name": "stderr",
     "output_type": "stream",
     "text": [
      "INFO: Loading help data...\n"
     ]
    }
   ],
   "source": [
    "include(\"DiscreteMaps.jl\")\n",
    "using DiscreteMaps, HDF5, JLD, PyPlot, Distributions\n",
    "path = \"results/lrb\";"
   ]
  },
  {
   "cell_type": "code",
   "execution_count": 16,
   "metadata": {
    "collapsed": false
   },
   "outputs": [
    {
     "data": {
      "image/png": "[encoded data removed]",
      "text/plain": [
       "Figure(PyObject <matplotlib.figure.Figure object at 0x110ac5650>)"
      ]
     },
     "metadata": {},
     "output_type": "display_data"
    },
    {
     "data": {
      "text/plain": [
       "0"
      ]
     },
     "execution_count": 16,
     "metadata": {},
     "output_type": "execute_result"
    }
   ],
   "source": [
    "    \n",
    "NSin = 100\n",
    "NPhas = 30\n",
    "#deps = 1e-6\n",
    "M = 20\n",
    "N = 80000\n",
    "rundate=\"2015-06-30\"\n",
    "plot( ([1:NSin]),fill(quantile(Chisq(M-2),[0.05,0.5,0.95]),NSin),\"--\")\n",
    "hold(true)\n",
    "for deps in [1:9]*1e-6#, N in [40000,60000,80000]\n",
    "\n",
    "    quantiles = [0.,0.25,0.5,0.75,1.]\n",
    "    QL = length(quantiles)\n",
    "    quantilev = zeros(NSin,NPhas,QL)\n",
    "\n",
    "    for p = 1:NPhas\n",
    "        extrastuff = [\"-$(deps)-\",\"-$(M)-\",\"-$(N)-\",rundate,\"-$(round(p/NPhas,3))-\"]\n",
    "        files = DiscreteMaps.searchdirh5(path,\"Lh\")\n",
    "        for str in extrastuff\n",
    "            files = filter(x->contains(x,\"$(str)\"),files)\n",
    "        end\n",
    "          FL = length(files)\n",
    "     #   (println(FL, \" files found\"))\n",
    "        FL == 0 && continue\n",
    "        pvals = Array(Float64,NSin,FL)\n",
    "        for fi = 1:FL\n",
    "            L = JLD.load(\"$(path)/$(files[fi])\")\n",
    "            pvals[:,fi] = DiscreteMaps.checklinearresponse(L[\"epsv\"],L[\"eA\"][1:NSin,:],L[\"vA\"][1:NSin,:])[1]\n",
    "        end\n",
    "        for i = 1:NSin\n",
    "            quantilev[i,p,:] = quantile(vec(pvals[i,:]),quantiles)\n",
    "        end\n",
    "    end\n",
    "\n",
    "\n",
    "    # fig = PyPlot.figure()\n",
    "    # ax = PyPlot.gca()\n",
    "\n",
    "#    plt = plot(#repmat([1:NSin]',FL,1),pvals',\"k.\",\n",
    "#    [1:NSin],quantilev[:,:,2],\"b.\",\n",
    "#    [1:NSin],fill(quantile(Chisq(M-2),[0.05,0.5,0.95]),NSin)#repmat(quantiles',NSin,1)\n",
    "#    ,\"--\");\n",
    "    plt = plot(#repmat([1:NSin]',FL,1),pvals',\"k.\",\n",
    "    [1:NSin]\n",
    "  #  deps\n",
    "    ,minimum(quantilev[:,:,3],2),\"-\");\n",
    "\n",
    "\n",
    "end\n",
    "hold(false)\n",
    "#axis([0,NSin,1e-16,1]);\n",
    "0"
   ]
  },
  {
   "cell_type": "code",
   "execution_count": 63,
   "metadata": {
    "collapsed": false
   },
   "outputs": [
    {
     "ename": "LoadError",
     "evalue": "BoundsError()\nwhile loading In[63], in expression starting on line 9",
     "output_type": "error",
     "traceback": [
      "BoundsError()\nwhile loading In[63], in expression starting on line 9",
      "",
      " in getindex at /Users/johnwormell/.julia/v0.3/PyCall/src/PyCall.jl:246",
      " in pysequence_query at /Users/johnwormell/.julia/v0.3/PyCall/src/conversions.jl:776",
      " in pytype_query at /Users/johnwormell/.julia/v0.3/PyCall/src/conversions.jl:792",
      " in convert at /Users/johnwormell/.julia/v0.3/PyCall/src/conversions.jl:842",
      " in pycall at /Users/johnwormell/.julia/v0.3/PyCall/src/PyCall.jl:403",
      " in fn at /Users/johnwormell/.julia/v0.3/PyCall/src/conversions.jl:188",
      " in close_queued_figs at /Users/johnwormell/.julia/v0.3/PyPlot/src/PyPlot.jl:296"
     ]
    }
   ],
   "source": [
    "        extrastuff = [\"-$(deps)-\",\"-$(M)-\",\"-$(N)-\",rundate,\"-$(round(10/NPhas,3))-\"]\n",
    "        files = DiscreteMaps.searchdirh5(path,\"Lh\")\n",
    "        for str in extrastuff\n",
    "            files = filter(x->contains(x,\"$(str)\"),files)\n",
    "        end\n",
    "\n",
    "ks = 68\n",
    "va = zeros(size(JLD.load(\"$(path)/$(files[1])\")[\"eA\"][[7],:]'))\n",
    "for i = 1:5\n",
    "    L = JLD.load(\"$(path)/$(files[i])\")\n",
    "    plot(L[\"eA\"][[ks],:]')\n",
    "    hold(true)\n",
    "    dmclr = DiscreteMaps.checklinearresponse(L[\"epsv\"],L[\"eA\"][1:NSin,:],L[\"vA\"][1:NSin,:])\n",
    "    va += L[\"eA\"][[ks],:]' - (dmclr[3][ks] + dmclr[4][ks]*L[\"epsv\"]).*sqrt(L[\"vA\"][ks,:][:])/80000\n",
    "end\n",
    "hold(false)\n",
    "plot(va)\n",
    "#axis([0,20,-0.05,-0.02]);\n",
    "checklinearresponse(L)[3]"
   ]
  },
  {
   "cell_type": "code",
   "execution_count": 185,
   "metadata": {
    "collapsed": false
   },
   "outputs": [
    {
     "ename": "LoadError",
     "evalue": "syntax: extra token \"vs\" after end of expression\nwhile loading In[185], in expression starting on line 1",
     "output_type": "error",
     "traceback": [
      "syntax: extra token \"vs\" after end of expression\nwhile loading In[185], in expression starting on line 1",
      ""
     ]
    }
   ],
   "source": [
    "deps_crit vs N for A = sin(x). Hope deps_crit ~ N^-3/2\n",
    "    \n",
    "    then for deps > deps_c(N), hope take A = sin k(x - x_pt) and hope for --_--"
   ]
  },
  {
   "cell_type": "code",
   "execution_count": 201,
   "metadata": {
    "collapsed": false
   },
   "outputs": [
    {
     "name": "stderr",
     "output_type": "stream",
     "text": [
      "Warning: replacing module DiscreteMaps\n",
      "Warning: Method definition ones((),) in module DiscreteMaps at /Users/johnwormell/Dropbox/Julia/Specacim/DiscreteMaps.jl:25 overwritten in module DiscreteMaps at /Users/johnwormell/Dropbox/Julia/Specacim/DiscreteMaps.jl:25.\n",
      "Warning: using DiscreteMaps.checklinearresponse in module Main conflicts with an existing identifier.\n"
     ]
    },
    {
     "name": "stdout",
     "output_type": "stream",
     "text": [
      "[0.5129891760425771\n",
      " 0.2773927772077526\n",
      " 0.1780134926840083\n",
      " 0.2591299639225074\n",
      " 0.14245987945869001\n",
      " 0.09941190177042715\n",
      " 0.08680901221424346\n",
      " 0.0542549155101509\n",
      " 0.14345987779648195\n",
      " 0.07769048045232538\n",
      " 0.05021943571353547\n",
      " 0.06734188378629848\n",
      " 0.03726658481243907\n",
      " 0.02695602168403645\n",
      " 0.021354181335058432\n",
      " 0.014562022533437509\n",
      " 0.013835029183363282\n",
      " 0.00825868465841375\n",
      " 0.011477729186155097\n",
      " 0.0063317524063810525\n",
      " 0.004501131075675547\n",
      " 0.0037224207304112117\n",
      " 0.002427693966583756\n",
      " 0.0029967716314827854\n",
      " 0.001674028648310165\n",
      " 0.0012783267897511356\n",
      " 0.0009155374338819563\n",
      " 0.0007426839445294241\n",
      " 0.0004934445997100272\n",
      " 0.0005339163875520105\n",
      " 0.0003054583361922263\n",
      " 0.0002735183208502456\n",
      " 0.0001682667567944215\n",
      " 0.0006324775793625225\n",
      " 0.00034213001922116216\n",
      " 0.0002199460239800841\n",
      " 0.00031335299887704854\n",
      " 0.0001725308757476124\n",
      " 0.0001213775413687152\n",
      " 0.00010336809668929764\n",
      " 6.57789360276959e-5\n",
      " 0.00010800559402984843\n",
      " 5.899911549560125e-5\n",
      " 3.9819748701275964e-5\n",
      " 3.961570055840278e-5\n",
      " 2.3224656332232534e-5\n",
      " 2.5758458664593332e-5\n",
      " 1.4654509694748242e-5\n",
      " 1.2599990543578592e-5\n",
      " 7.96082006916964e-6]\n"
     ]
    }
   ],
   "source": [
    "include(\"../Specacim/DiscreteMaps.jl\")\n",
    "using DiscreteMaps\n",
    "gs = DiscreteMaps.criticalorbit(DiscreteMaps.logistic(3.8)).mag |> println"
   ]
  },
  {
   "cell_type": "code",
   "execution_count": 200,
   "metadata": {
    "collapsed": false
   },
   "outputs": [
    {
     "data": {
      "text/plain": [
       "50-element Array{Float64,1}:\n",
       " 0.95    \n",
       " 0.1805  \n",
       " 0.562095\n",
       " 0.935348\n",
       " 0.229794\n",
       " 0.672557\n",
       " 0.836851\n",
       " 0.518819\n",
       " 0.948654\n",
       " 0.185096\n",
       " 0.573174\n",
       " 0.929653\n",
       " 0.248514\n",
       " ⋮       \n",
       " 0.681422\n",
       " 0.824927\n",
       " 0.548805\n",
       " 0.940949\n",
       " 0.211145\n",
       " 0.632938\n",
       " 0.882845\n",
       " 0.393034\n",
       " 0.906522\n",
       " 0.322013\n",
       " 0.829618\n",
       " 0.537137"
      ]
     },
     "execution_count": 200,
     "metadata": {},
     "output_type": "execute_result"
    }
   ],
   "source": []
  },
  {
   "cell_type": "code",
   "execution_count": null,
   "metadata": {
    "collapsed": true
   },
   "outputs": [],
   "source": []
  }
 ],
 "metadata": {
  "kernelspec": {
   "display_name": "Julia 0.3.7",
   "language": "julia",
   "name": "julia-0.3"
  },
  "language_info": {
   "name": "julia",
   "version": "0.3.7"
  }
 },
 "nbformat": 4,
 "nbformat_minor": 0
}
